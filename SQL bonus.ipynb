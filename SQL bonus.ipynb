{
 "cells": [
  {
   "cell_type": "markdown",
   "id": "509bc829",
   "metadata": {},
   "source": [
    "# conculsion:\n",
    "1.  salary data look skewed. it does not follow bell curve and salary start from 40,000.\n",
    "2.  Senior Staff has highest salary and senior enginner has lowest salary .\t\n",
    "    "
   ]
  },
  {
   "cell_type": "code",
   "execution_count": 1,
   "id": "ff9d83b0",
   "metadata": {},
   "outputs": [],
   "source": [
    "#!pip install psycopg2"
   ]
  },
  {
   "cell_type": "code",
   "execution_count": 2,
   "id": "e3a57467",
   "metadata": {},
   "outputs": [],
   "source": [
    "import psycopg2 \n",
    "hostname = 'localhost'\n",
    "database = 'sql-challenge'\n",
    "username = 'postgres'\n",
    "port_id = 5432\n",
    "# Import API key\n",
    "from pass_key import pwd"
   ]
  },
  {
   "cell_type": "code",
   "execution_count": 3,
   "id": "8203fe84",
   "metadata": {},
   "outputs": [],
   "source": [
    "conn = psycopg2.connect(\n",
    "        host = hostname,\n",
    "        dbname = database,\n",
    "        user = username,\n",
    "        password = pwd,\n",
    "        port = port_id)\n"
   ]
  },
  {
   "cell_type": "code",
   "execution_count": 4,
   "id": "fa126c48",
   "metadata": {},
   "outputs": [],
   "source": [
    "# Pandas\n",
    "import pandas as pd\n",
    "\n",
    "# Matplotlib\n",
    "import matplotlib.pyplot as plt\n",
    "\n",
    "# NumPy\n",
    "import numpy as np"
   ]
  },
  {
   "cell_type": "markdown",
   "id": "efb3829c",
   "metadata": {},
   "source": [
    "# Create a histogram to visualize the employee salary ranges that were the most common."
   ]
  },
  {
   "cell_type": "code",
   "execution_count": 5,
   "id": "cc00e36e",
   "metadata": {},
   "outputs": [
    {
     "name": "stderr",
     "output_type": "stream",
     "text": [
      "C:\\Users\\User\\anaconda3\\lib\\site-packages\\pandas\\io\\sql.py:761: UserWarning: pandas only support SQLAlchemy connectable(engine/connection) ordatabase string URI or sqlite3 DBAPI2 connectionother DBAPI2 objects are not tested, please consider using SQLAlchemy\n",
      "  warnings.warn(\n"
     ]
    },
    {
     "data": {
      "text/plain": [
       "(300024, 2)"
      ]
     },
     "metadata": {},
     "output_type": "display_data"
    },
    {
     "data": {
      "text/plain": [
       "(300024, 2)"
      ]
     },
     "metadata": {},
     "output_type": "display_data"
    }
   ],
   "source": [
    "# Query All Records in the Salaries Table\n",
    "salaries_df = pd.read_sql(\"SELECT * FROM salaries\", conn)\n",
    "display(salaries_df.shape)\n",
    "#DROPING THE NULL VALUE\n",
    "salaries_df.dropna(subset=['salary'], inplace=True)\n",
    "display(salaries_df.shape)"
   ]
  },
  {
   "cell_type": "code",
   "execution_count": 6,
   "id": "a89efcf1",
   "metadata": {},
   "outputs": [
    {
     "data": {
      "image/png": "[encoded data removed]",
      "text/plain": [
       "<Figure size 720x504 with 1 Axes>"
      ]
     },
     "metadata": {
      "needs_background": "light"
     },
     "output_type": "display_data"
    }
   ],
   "source": [
    "plt.rcParams['figure.figsize']=(10,7)\n",
    "plt.hist(salaries_df['salary'],bins=10,)\n",
    "plt.title('SALARY RANGE PLOT',fontsize=20,pad=40)\n",
    "plt.xlabel('Salaries ($)',fontsize=16,color='black',labelpad=20)\n",
    "plt.ylabel('Frequency Count',fontsize=16,color='black',labelpad=20)\n",
    "plt.xlim(30000,150000)\n",
    "plt.xticks(fontsize=12)\n",
    "plt.yticks(fontsize=12)\n",
    "plt.show()\n",
    "\n",
    "s_mean=salaries_df['salary'].mean()\n",
    "s_max=salaries_df['salary'].max()\n",
    "s_min=salaries_df['salary'].min()\n",
    "\n",
    "# Save Figure\n",
    "#plt.savefig(\"./image/employee_salary_ranges.png\")\n",
    "# Show plot\n",
    "plt.show()"
   ]
  },
  {
   "cell_type": "markdown",
   "id": "96940b91",
   "metadata": {},
   "source": [
    "# Create a bar chart of average salary by title."
   ]
  },
  {
   "cell_type": "code",
   "execution_count": 7,
   "id": "7e2decbe",
   "metadata": {},
   "outputs": [
    {
     "name": "stderr",
     "output_type": "stream",
     "text": [
      "C:\\Users\\User\\anaconda3\\lib\\site-packages\\pandas\\io\\sql.py:761: UserWarning: pandas only support SQLAlchemy connectable(engine/connection) ordatabase string URI or sqlite3 DBAPI2 connectionother DBAPI2 objects are not tested, please consider using SQLAlchemy\n",
      "  warnings.warn(\n"
     ]
    },
    {
     "data": {
      "text/html": [
       "<div>\n",
       "<style scoped>\n",
       "    .dataframe tbody tr th:only-of-type {\n",
       "        vertical-align: middle;\n",
       "    }\n",
       "\n",
       "    .dataframe tbody tr th {\n",
       "        vertical-align: top;\n",
       "    }\n",
       "\n",
       "    .dataframe thead th {\n",
       "        text-align: right;\n",
       "    }\n",
       "</style>\n",
       "<table border=\"1\" class=\"dataframe\">\n",
       "  <thead>\n",
       "    <tr style=\"text-align: right;\">\n",
       "      <th></th>\n",
       "      <th>titles</th>\n",
       "      <th>salary</th>\n",
       "    </tr>\n",
       "  </thead>\n",
       "  <tbody>\n",
       "    <tr>\n",
       "      <th>0</th>\n",
       "      <td>Assistant Engineer</td>\n",
       "      <td>48564.434447</td>\n",
       "    </tr>\n",
       "    <tr>\n",
       "      <th>1</th>\n",
       "      <td>Engineer</td>\n",
       "      <td>48535.336511</td>\n",
       "    </tr>\n",
       "    <tr>\n",
       "      <th>2</th>\n",
       "      <td>Manager</td>\n",
       "      <td>51531.041667</td>\n",
       "    </tr>\n",
       "    <tr>\n",
       "      <th>3</th>\n",
       "      <td>Senior Engineer</td>\n",
       "      <td>48506.799871</td>\n",
       "    </tr>\n",
       "    <tr>\n",
       "      <th>4</th>\n",
       "      <td>Senior Staff</td>\n",
       "      <td>58550.172704</td>\n",
       "    </tr>\n",
       "    <tr>\n",
       "      <th>5</th>\n",
       "      <td>Staff</td>\n",
       "      <td>58465.382850</td>\n",
       "    </tr>\n",
       "    <tr>\n",
       "      <th>6</th>\n",
       "      <td>Technique Leader</td>\n",
       "      <td>48582.896092</td>\n",
       "    </tr>\n",
       "  </tbody>\n",
       "</table>\n",
       "</div>"
      ],
      "text/plain": [
       "               titles        salary\n",
       "0  Assistant Engineer  48564.434447\n",
       "1            Engineer  48535.336511\n",
       "2             Manager  51531.041667\n",
       "3     Senior Engineer  48506.799871\n",
       "4        Senior Staff  58550.172704\n",
       "5               Staff  58465.382850\n",
       "6    Technique Leader  48582.896092"
      ]
     },
     "execution_count": 7,
     "metadata": {},
     "output_type": "execute_result"
    }
   ],
   "source": [
    "titles_df = pd.read_sql(\"SELECT titles,avg(salary) as salary FROM titles inner join employees \\\n",
    "        ON employees.emp_title_id = titles.title_id \\\n",
    "        inner join salaries \\\n",
    "        on employees.emp_no = salaries.emp_no\\\n",
    "        group by titles \", conn)\n",
    "titles_df.head(10)"
   ]
  },
  {
   "cell_type": "code",
   "execution_count": 8,
   "id": "30baa4f7",
   "metadata": {},
   "outputs": [
    {
     "data": {
      "text/plain": [
       "Text(0.5, 1.0, 'Average Employee Salary by Title')"
      ]
     },
     "execution_count": 8,
     "metadata": {},
     "output_type": "execute_result"
    },
    {
     "data": {
      "image/png": "[encoded data removed]",
      "text/plain": [
       "<Figure size 720x504 with 1 Axes>"
      ]
     },
     "metadata": {
      "needs_background": "light"
     },
     "output_type": "display_data"
    }
   ],
   "source": [
    "# Set x_axis, y_axis \n",
    "x_axis = titles_df[\"titles\"]\n",
    "ticks = np.arange(len(x_axis))\n",
    "y_axis = titles_df[\"salary\"]\n",
    " \n",
    "# Create Bar Chart Based on Above Data\n",
    "plt.bar(x_axis, y_axis, align=\"center\")\n",
    "\n",
    "# Create Ticks for Bar Chart's x_axis\n",
    "plt.xticks(ticks, x_axis, rotation=\"vertical\")\n",
    "\n",
    "# Set Labels & Title\n",
    "plt.ylabel(\"Salaries ($)\")\n",
    "plt.xlabel(\"Employee Titles\")\n",
    "plt.title(\"Average Employee Salary by Title\")\n",
    "\n",
    "# Save Figure\n",
    "#plt.savefig(\"./image/average_salary_by_title.png\")\n",
    "\n",
    "# Show plot\n",
    "#plt.show()"
   ]
  }
 ],
 "metadata": {
  "kernelspec": {
   "display_name": "Python 3 (ipykernel)",
   "language": "python",
   "name": "python3"
  },
  "language_info": {
   "codemirror_mode": {
    "name": "ipython",
    "version": 3
   },
   "file_extension": ".py",
   "mimetype": "text/x-python",
   "name": "python",
   "nbconvert_exporter": "python",
   "pygments_lexer": "ipython3",
   "version": "3.9.12"
  }
 },
 "nbformat": 4,
 "nbformat_minor": 5
}
